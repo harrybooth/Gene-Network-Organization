{
 "cells": [
  {
   "cell_type": "code",
   "execution_count": 1,
   "metadata": {},
   "outputs": [
    {
     "name": "stderr",
     "output_type": "stream",
     "text": [
      "\u001b[32m\u001b[1m  Activating\u001b[22m\u001b[39m project at `~/Documents/GRNEvoContingency`\n"
     ]
    },
    {
     "name": "stderr",
     "output_type": "stream",
     "text": [
      "\u001b[32m\u001b[1m  Activating\u001b[22m\u001b[39m project at `~/Documents/GRNEvoContingency/notebooks`\n"
     ]
    },
    {
     "data": {
      "text/plain": [
       "\"GRNEvoContingencyAnalysis\""
      ]
     },
     "metadata": {},
     "output_type": "display_data"
    }
   ],
   "source": [
    "using Pkg\n",
    "\n",
    "Pkg.activate(\"../..\")\n",
    "\n",
    "projectdir_static = dirname(Base.active_project())\n",
    "\n",
    "projectdirx(args...) = joinpath(projectdir_static, args...)\n",
    "\n",
    "# Generate functions to access the path of default subdirectories.\n",
    "for dir_type ∈ (\"data\", \"src\",\"src_analysis\", \"plots\", \"scripts\", \"papers\")\n",
    "    function_name = Symbol(dir_type * \"dirx\")\n",
    "    @eval begin\n",
    "        $function_name(args...) = projectdirx($dir_type, args...)\n",
    "    end\n",
    "end\n",
    "\n",
    "using DrWatson\n",
    "\n",
    "@quickactivate \"GRNEvoContingencyAnalysis\"\n",
    "\n",
    "projectname()"
   ]
  },
  {
   "cell_type": "code",
   "execution_count": 2,
   "metadata": {},
   "outputs": [
    {
     "data": {
      "text/plain": [
       "create_contingency_accuracy_summary! (generic function with 1 method)"
      ]
     },
     "metadata": {},
     "output_type": "display_data"
    }
   ],
   "source": [
    "using JLD2\n",
    "using CairoMakie\n",
    "using ColorSchemes\n",
    "using BenchmarkTools\n",
    "using Distances\n",
    "using StatsPlots\n",
    "using Clustering\n",
    "using MultivariateStats\n",
    "using HypothesisTests\n",
    "using PyCall\n",
    "using DecisionTree\n",
    "using DataFrames\n",
    "using Combinatorics\n",
    "using NetworkLayout\n",
    "using LinearAlgebra\n",
    "using UMAP\n",
    "using PyCallJLD2\n",
    "using Graphs\n",
    "\n",
    "include(srcdirx(\"GRNEvoContingency.jl\"))\n",
    "include(srcdirx(\"Analysis.jl\"))\n",
    "\n",
    "exp_name = \"RE_Minimal_Inhibiting_DeNovo\"\n",
    "local_nb_data = \"InhibitingData/\"\n",
    "\n",
    "include(srcdirx(\"ExperimentSetups/DeNovoStripe/\" * exp_name * \".jl\"))\n",
    "\n",
    "include(srcdirx(\"GRNVisualization.jl\"))\n",
    "include(srcdirx(\"Visualization.jl\"))"
   ]
  },
  {
   "cell_type": "code",
   "execution_count": 3,
   "metadata": {},
   "outputs": [],
   "source": [
    "xgboost = pyimport(\"xgboost\");"
   ]
  },
  {
   "cell_type": "code",
   "execution_count": null,
   "metadata": {},
   "outputs": [],
   "source": [
    "load_trajectory_data = true\n",
    "\n",
    "load_epistasis_data = true\n",
    "load_phenotype_data = true\n",
    "\n",
    "load_shap_data = true"
   ]
  },
  {
   "cell_type": "markdown",
   "metadata": {},
   "source": [
    "# Load Data"
   ]
  },
  {
   "cell_type": "code",
   "execution_count": 4,
   "metadata": {},
   "outputs": [],
   "source": [
    "all_conv = []\n",
    "all_geno_traj = []\n",
    "all_fitness_traj = []\n",
    "all_min_end_networks = []\n",
    "all_min_fs_networks = []\n",
    "all_wait_times = []\n",
    "all_mut_types = []\n",
    "all_mut_sizes = []\n",
    "all_mut_choices = []\n",
    "all_mat_av_X = []\n",
    "\n",
    "if load_trajectory_data\n",
    "    exp_versions = [\"N1\",\"N2\",\"N3\",\"N4\",\"N5\",\"N6\"]\n",
    "else\n",
    "    exp_versions = [\"your_trajectory_datasets_here\", \"some_outputs_of:scripts/RepeatedEvolution_MinDyn.jl\"]\n",
    "end\n",
    "\n",
    "for ver in exp_versions\n",
    "\n",
    "    data = load(datadirx(\"exp_pro/DeNovoStripe/\" * exp_name * \"_RawData_\" * ver * \".jld2\"));\n",
    "\n",
    "    conv = data[\"converged\"]\n",
    "\n",
    "    push!(all_conv,conv)\n",
    "    push!(all_geno_traj,data[\"geno_traj\"][conv])\n",
    "    push!(all_fitness_traj,data[\"fitness_traj\"][conv])\n",
    "    push!(all_min_end_networks,data[\"min_end_networks\"])\n",
    "    push!(all_min_fs_networks,data[\"min_fs_networks\"])\n",
    "    push!(all_wait_times,data[\"wait_times\"][conv])\n",
    "    push!(all_mut_types,data[\"mut_type\"][conv])\n",
    "    push!(all_mut_sizes,data[\"mut_sizes\"][conv])\n",
    "    push!(all_mut_choices,data[\"mut_choices\"][conv])\n",
    "    push!(all_mat_av_X,data[\"dmat_X_av\"])\n",
    "end\n",
    "\n",
    "all_conv = reduce(vcat,all_conv)\n",
    "all_geno_traj = reduce(vcat,all_geno_traj)\n",
    "all_fitness_traj = reduce(vcat,all_fitness_traj)\n",
    "all_min_end_networks = reduce(vcat,all_min_end_networks)\n",
    "all_min_fs_networks = reduce(vcat,all_min_fs_networks)\n",
    "all_wait_times = reduce(vcat,all_wait_times)\n",
    "all_mut_types = reduce(vcat,all_mut_types)\n",
    "all_mut_sizes = reduce(vcat,all_mut_sizes)\n",
    "all_mut_choices = reduce(vcat,all_mut_choices)\n",
    "all_mat_av_X = reduce(hcat,all_mat_av_X);"
   ]
  },
  {
   "cell_type": "code",
   "execution_count": 5,
   "metadata": {},
   "outputs": [
    {
     "data": {
      "text/plain": [
       "false"
      ]
     },
     "metadata": {},
     "output_type": "display_data"
    }
   ],
   "source": [
    "plot_save_dir = \"DeNovoStripe/\" * exp_name \n",
    "plot_save_dir_supp = \"DeNovoStripe/Supplementary/\" * exp_name \n",
    "\n",
    "save_fig = false"
   ]
  },
  {
   "cell_type": "markdown",
   "metadata": {},
   "source": [
    "# Prepare simulation data for analysis "
   ]
  },
  {
   "cell_type": "markdown",
   "metadata": {},
   "source": [
    "Convergence rate:"
   ]
  },
  {
   "cell_type": "code",
   "execution_count": 6,
   "metadata": {},
   "outputs": [
    {
     "data": {
      "text/plain": [
       "105847"
      ]
     },
     "metadata": {},
     "output_type": "display_data"
    }
   ],
   "source": [
    "conv_time = map(x->sum(x),all_wait_times)\n",
    "\n",
    "nconv = sum(all_conv)"
   ]
  },
  {
   "cell_type": "markdown",
   "metadata": {},
   "source": [
    "Assign minimal stripe topologies & evaluate basic simulation stats:"
   ]
  },
  {
   "cell_type": "code",
   "execution_count": 7,
   "metadata": {},
   "outputs": [],
   "source": [
    "fs_mss =  map(list_mss->select_minimal_topologies(list_mss),all_min_fs_networks)\n",
    "ls_mss =  map(list_mss->select_minimal_topologies(list_mss),all_min_end_networks);"
   ]
  },
  {
   "cell_type": "markdown",
   "metadata": {},
   "source": [
    "Build trajectory data structure:"
   ]
  },
  {
   "cell_type": "code",
   "execution_count": 8,
   "metadata": {},
   "outputs": [],
   "source": [
    "trajectories = map(n->Trajectory(n,all_geno_traj[n],all_fitness_traj[n],all_wait_times[n] .+ 1,all_mut_choices[n],all_mut_types[n],all_mut_sizes[n],weight_names),1:nconv);\n",
    "\n",
    "for (n,tr) in enumerate(trajectories)\n",
    "    assign_minimal_subgraphs!(tr,fs_mss[n],ls_mss[n])\n",
    "end\n",
    "\n",
    "inc_metagraph, vertex_top_map,top_vertex_map,vertex_complexity_map,inclusion_matrix = create_inclusion_metagraph(trajectories);\n",
    "\n",
    "minimal_motif_id = findall(indegree(inc_metagraph) .== 0);\n",
    "\n",
    "minimal_motifs = reduce(hcat,[vertex_top_map[vertex_id] for vertex_id in minimal_motif_id])\n",
    "\n",
    "for tr in trajectories\n",
    "    assign_inc_vertex_ids!(tr,top_vertex_map)\n",
    "    assign_inc_parents!(tr,inclusion_matrix,vertex_complexity_map,minimal_motif_id)\n",
    "end"
   ]
  },
  {
   "cell_type": "markdown",
   "metadata": {},
   "source": [
    "Evaluate/assign dependency evaluation combinatorial data:"
   ]
  },
  {
   "cell_type": "code",
   "execution_count": 9,
   "metadata": {},
   "outputs": [
    {
     "data": {
      "text/plain": [
       "0.01"
      ]
     },
     "metadata": {},
     "output_type": "display_data"
    }
   ],
   "source": [
    "fitness_eps = 1e-2 # epsilon for netural fitness evaluation\n",
    "\n",
    "if load_epistasis_data\n",
    "    epi_types_full = load(local_nb_data * \"epistasis_types_full_deltas_N6.jld2\",\"data\")\n",
    "\n",
    "    for (tr,epi_type) in zip(trajectories,epi_types_full)\n",
    "        tr.epistasis = epi_type\n",
    "    end\n",
    "else\n",
    "    for tr in trajectories\n",
    "        evaluate_epistasis_types_full_deltas!(tr,grn_parameters,DefaultGRNSolver(),fitness_function,mutation_op)\n",
    "    end\n",
    "end"
   ]
  },
  {
   "cell_type": "markdown",
   "metadata": {},
   "source": [
    "# MST Distribution & Dynamics"
   ]
  },
  {
   "cell_type": "markdown",
   "metadata": {},
   "source": [
    "Identify MST distribution and summary stats:"
   ]
  },
  {
   "cell_type": "code",
   "execution_count": 12,
   "metadata": {},
   "outputs": [
    {
     "name": "stdout",
     "output_type": "stream",
     "text": [
      "Total unique MST: 732"
     ]
    }
   ],
   "source": [
    "end_parents = map(tr->tr.inc_metagraph_vertices[end],trajectories)\n",
    "\n",
    "sorted_uep,sorted_counts_uep = return_order_by_count(end_parents);\n",
    "\n",
    "uep_position_dict = Dict(v=>n for (n,v) in enumerate(sorted_uep));\n",
    "\n",
    "mst_conf_int = confint(MultinomialLRT(sorted_counts_uep),0.05)\n",
    "\n",
    "sorted_uep_other = vcat(sorted_counts_uep[1:8],[sum(sorted_counts_uep[9:end])])\n",
    "\n",
    "mst_conf_int_r = confint(MultinomialLRT(sorted_uep_other),0.05)\n",
    "\n",
    "top_n = 8\n",
    "\n",
    "top_8_mst = map(x-> x ∈ sorted_uep[1:8], end_parents);\n",
    "\n",
    "print(\"Total unique MST: \" * string(length(sorted_uep)))"
   ]
  },
  {
   "cell_type": "markdown",
   "metadata": {},
   "source": [
    "Compute MST UMAP embedding:"
   ]
  },
  {
   "cell_type": "code",
   "execution_count": 20,
   "metadata": {},
   "outputs": [],
   "source": [
    "embedding = umap(all_mat_av_X[:,top_8_mst], 2; metric = d_metric,n_neighbors = 40,min_dist = 0.5);"
   ]
  },
  {
   "cell_type": "markdown",
   "metadata": {},
   "source": [
    "Produce Figure 2 - \"The distribution of adaptive outcomes relating to the core mechanisms of stripe formation\""
   ]
  },
  {
   "cell_type": "code",
   "execution_count": 13,
   "metadata": {},
   "outputs": [
    {
     "name": "stderr",
     "output_type": "stream",
     "text": [
      "WARNING: redefinition of constant top_n_colors. This may fail, cause incorrect answers, or produce other errors.\n",
      "WARNING: redefinition of constant node_colors. This may fail, cause incorrect answers, or produce other errors.\n",
      "WARNING: redefinition of constant weight_names_latex. This may fail, cause incorrect answers, or produce other errors.\n",
      "WARNING: redefinition of constant weight_names_latex_m. This may fail, cause incorrect answers, or produce other errors.\n"
     ]
    },
    {
     "data": {
      "image/png": "[encoded data removed]"
     },
     "metadata": {},
     "output_type": "display_data"
    }
   ],
   "source": [
    "fig = Figure(resolution = (460,750-(7*12)),fontsize = fontsize_pub)\n",
    "\n",
    "ds_config_12 = dynamical_summary_config(fontsize_pub,2.,ext_palette,node_colors,draw_config_12,1.5,12.,2.,1.,2.5,14.)\n",
    "\n",
    "example_mst = 2\n",
    "\n",
    "tr_choice = 2\n",
    "\n",
    "min_n = length(exp_versions)*300\n",
    "\n",
    "plot_figure_1!(fig,trajectories,embedding,8,sorted_uep,sorted_counts_uep,end_parents[top_8_mst],vertex_top_map,example_mst,tr_choice,ds_config_12)\n",
    "\n",
    "cond_save(plotsdirx(plot_save_dir,\"Figure_2.pdf\"),fig,save_fig)\n",
    "\n",
    "fig"
   ]
  },
  {
   "cell_type": "markdown",
   "metadata": {},
   "source": [
    "Phenotype transitions"
   ]
  },
  {
   "cell_type": "code",
   "execution_count": 14,
   "metadata": {},
   "outputs": [],
   "source": [
    "development = DefaultGRNSolver()\n",
    "\n",
    "const orig_network = trajectories[1].geno_traj[1]\n",
    "\n",
    "founder = Individual(reshape(orig_network,(3,4)),grn_parameters,development)\n",
    "orig_phenotype = founder.phenotype.u[end][3,:]\n",
    "\n",
    "orig_phenotype = orig_phenotype ./ maximum(orig_phenotype);\n",
    "\n",
    "function return_fitness_delta(fitness_orig,fitness_mutant)\n",
    "    Δf1 = fitness_orig[1] - fitness_mutant[1]\n",
    "    Δf2 = fitness_orig[2] - fitness_mutant[2]\n",
    "\n",
    "    return Δf1 != 0. ? Δf1 : Δf2\n",
    "end\n",
    "\n",
    "fix_probabilities = map(tr->[fixation_probability_kim(tr.fitness_traj_tuple[i+1][1] - tr.fitness_traj_tuple[i][1],tr.fitness_traj_tuple[i+1][2] - tr.fitness_traj_tuple[i][2],β[1],β[2]) for i in 1:length(tr.fitness_traj_tuple)-1],trajectories);\n",
    "\n",
    "fix_deltas = map(tr->[return_fitness_delta(tr.fitness_traj_tuple[i+1],tr.fitness_traj_tuple[i]) for i in 1:length(tr.fitness_traj_tuple)-1],trajectories);\n",
    "\n",
    "neutral_indicator = map(v->map(ni -> abs(ni) .<= fitness_eps,v),fix_deltas);"
   ]
  },
  {
   "cell_type": "code",
   "execution_count": 15,
   "metadata": {},
   "outputs": [],
   "source": [
    "if load_phenotype_data # load pre-computed manuscript data\n",
    "    all_pheno = load(local_nb_data * \"all_pheno_N6.jld2\")[\"data\"];\n",
    "else # compute every phenotype associated with every mutant across all trajectories : WARNING - long computation!\n",
    "    fix_probabilities = map(tr->[fixation_probability_kim(tr.fitness_traj_tuple[i+1][1] - tr.fitness_traj_tuple[i][1],tr.fitness_traj_tuple[i+1][2] - tr.fitness_traj_tuple[i][2],β[1],β[2]) for i in 1:length(tr.fitness_traj_tuple)-1],trajectories);\n",
    "\n",
    "    fix_deltas = map(tr->[return_fitness_delta(tr.fitness_traj_tuple[i+1],tr.fitness_traj_tuple[i]) for i in 1:length(tr.fitness_traj_tuple)-1],trajectories);\n",
    "\n",
    "    neutral_indicator = map(v->map(ni -> abs(ni) .<= fitness_eps,v),fix_deltas)\n",
    "\n",
    "    development = DefaultGRNSolver()\n",
    "\n",
    "    const orig_network = trajectories[1].geno_traj[1]\n",
    "\n",
    "    founder = Individual(reshape(orig_network,(3,4)),grn_parameters,development)\n",
    "    orig_phenotype = founder.phenotype.u[end][3,:]\n",
    "\n",
    "    orig_phenotype = orig_phenotype ./ maximum(orig_phenotype);\n",
    "\n",
    "    all_pheno = [[ni ? nothing : new_phenotype(founder,reshape(g,(3,4)),development) for (ni,g) in zip(ni_tr,tr.geno_traj[2:end])] for (ni_tr,tr) in zip(neutral_indicator,trajectories)];\n",
    "end\n",
    "\n",
    "# characterise phenotypes \n",
    "\n",
    "all_pheno_ch = map(tr_ph->map(ph->pheno_characterise_v1(ph,lower_bound,upper_bound,min_width),tr_ph),all_pheno);\n",
    "\n",
    "all_pheno_mut_ch = [[characterise_mutation_v1(ph1,ph2,ni) for ((ph1,ph2),ni) in zip(zip(tr_ph[1:end-1],tr_ph[2:end]),ni)] for (tr_ph,ni) in zip(all_pheno_ch,neutral_indicator)];\n",
    "\n",
    "replace_dict = Dict([:mrb_wbb, :crb_wlb]=>[:crb_wlb],\n",
    "                    [:mlb_wbb, :crb_wlb] => [:crb_wlb],\n",
    "                    [:mrb_wbb] => [:mbb_wbb],\n",
    "                    [:mlb_wbb] => [:mbb_wbb],\n",
    "                    [:clb_wrb,:mrb_wbb]=>[:clb_wrb],\n",
    "                    [:mlb_wbb, :mrb_wbb] => [:mbb_wbb],\n",
    "                    [:switch_lr] => [:other_wlb],\n",
    "                    [:switch_rl] => [:other_wrb],\n",
    "                    [:grow_wrb] => [:other_wrb],\n",
    "                    [:grow_wlb] => [:other_wlb],\n",
    "                    [:grow_wbb] => [:other_wbb],\n",
    "                    [:grow_wnb] => [:other_wnb],\n",
    "                    [:drb]=>[:other_wrb],\n",
    "                    [:dlb]=>[:other_wlb],\n",
    "                    [:nothing] => [:neutral]);\n",
    "\n",
    "all_pheno_mut_chf = map(tr_ph->map(ph->haskey(replace_dict,ph) ? replace_dict[ph] : ph,tr_ph),all_pheno_mut_ch);"
   ]
  },
  {
   "cell_type": "code",
   "execution_count": 21,
   "metadata": {},
   "outputs": [
    {
     "data": {
      "image/png": "[encoded data removed]"
     },
     "metadata": {},
     "output_type": "display_data"
    }
   ],
   "source": [
    "fig = Figure(resolution = (200,200),fontsize = fontsize_pub)\n",
    "\n",
    "evo_config_12 = evo_summary_config(fontsize_pub,6.,1.,ext_palette,node_colors,draw_config_12,1.,4.,2.,epi_colors,0.5)\n",
    "\n",
    "create_pheno_transition_bars!(fig,trajectories,all_pheno_mut_chf,evo_config_12)\n",
    "\n",
    "fig"
   ]
  },
  {
   "cell_type": "code",
   "execution_count": 17,
   "metadata": {},
   "outputs": [
    {
     "data": {
      "image/png": "[encoded data removed]"
     },
     "metadata": {},
     "output_type": "display_data"
    }
   ],
   "source": [
    "fig = Figure(resolution = (200,200),fontsize = fontsize_pub)\n",
    "\n",
    "evo_config_12 = evo_summary_config(fontsize_pub,6.,1.,ext_palette,node_colors,draw_config_12,1.,4.,2.,epi_colors,0.5)\n",
    "\n",
    "create_wait_times!(fig,trajectories,evo_config_12,:quantile)\n",
    "\n",
    "fig"
   ]
  },
  {
   "cell_type": "markdown",
   "metadata": {},
   "source": [
    "Extract dependency relations and mutation nweight data from trajectories"
   ]
  },
  {
   "cell_type": "code",
   "execution_count": 22,
   "metadata": {},
   "outputs": [],
   "source": [
    "epi_ratio_1 = map(tr->extract_minimal_weights_with_fitness(tr.epistasis[1],fitness_eps),filter(tr->(tr.H0 > 2),trajectories));\n",
    "mut_n_counts_1 = reduce(vcat,map(tr->get_mut_n(tr,1,1),filter(tr->(tr.H0 > 2),trajectories)));\n",
    "\n",
    "epi_mutn_counts_1 = countmap(mut_n_counts_1)\n",
    "total_epi_mutn_1 = sum(values(epi_mutn_counts_1))\n",
    "epi_mutn_prop_1 = Dict(key=>value/total_epi_mutn_1 for (key,value) in epi_mutn_counts_1)\n",
    "\n",
    "epi_mutn_prob_1 = [epi_mutn_prop_1[i] for i in 1:4] \n",
    "\n",
    "##############\n",
    "\n",
    "epi_ratio_lS0 = map(epi_vector->extract_minimal_weights_with_fitness(epi_vector,fitness_eps),reduce(vcat,map(tr->tr.epistasis[2:tr.H0-2],filter(tr->(tr.H0-2 > 0),trajectories))));\n",
    "mut_n_counts_lS0 = reduce(vcat,map(tr->get_mut_n(tr,2,tr.H0-2),filter(tr->(tr.H0-2 > 0),trajectories)));\n",
    "\n",
    "epi_mutn_counts_lS0 = countmap(mut_n_counts_lS0)\n",
    "total_epi_mutn_lS0 = sum(values(epi_mutn_counts_lS0))\n",
    "epi_mutn_prop_lS0 = Dict(key=>value/total_epi_mutn_lS0 for (key,value) in epi_mutn_counts_lS0);\n",
    "\n",
    "epi_mutn_prob_lS0 = [epi_mutn_prop_lS0[i] for i in 1:4] \n",
    "\n",
    "#############\n",
    "\n",
    "epi_ratio_S0 = reduce(vcat,map(tr->extract_minimal_weights_with_fitness(tr.epistasis[tr.H0-1],fitness_eps),trajectories));\n",
    "mut_n_counts_S0 = reduce(vcat,map(tr->get_mut_n(tr,tr.H0-1,tr.H0-1),trajectories));\n",
    "\n",
    "epi_mutn_counts_S0 = countmap(mut_n_counts_S0)\n",
    "total_epi_mutn_S0 = sum(values(epi_mutn_counts_S0))\n",
    "epi_mutn_prop_S0 = Dict(key=>value/total_epi_mutn_S0 for (key,value) in epi_mutn_counts_S0);\n",
    "\n",
    "epi_mutn_prob_S0 = [epi_mutn_prop_S0[i] for i in 1:4] \n",
    "\n",
    "#############\n",
    "\n",
    "epi_ratio_hS0 = map(epi_vector->extract_minimal_weights_with_fitness(epi_vector,fitness_eps),reduce(vcat,map(tr->tr.epistasis[tr.H0:end],trajectories)));\n",
    "mut_n_counts_hS0 = reduce(vcat,map(tr->get_mut_n(tr,tr.H0,length(tr.geno_traj)-1),trajectories));\n",
    "\n",
    "epi_mutn_counts_hS0 = countmap(mut_n_counts_hS0)\n",
    "total_epi_mutn_hS0 = sum(values(epi_mutn_counts_hS0))\n",
    "epi_mutn_prop_hS0 = Dict(key=>value/total_epi_mutn_hS0 for (key,value) in epi_mutn_counts_hS0);\n",
    "\n",
    "epi_mutn_prob_hS0 = [epi_mutn_prop_hS0[i] for i in 1:4];\n",
    "\n",
    "all_count_prop = []\n",
    "\n",
    "for epi_v in [epi_ratio_1,epi_ratio_lS0,epi_ratio_S0,epi_ratio_hS0]\n",
    "\n",
    "    max_nmut = maximum(last.(epi_v))\n",
    "\n",
    "    count_mat = zeros(max_nmut,max_nmut)\n",
    "\n",
    "    for v in epi_v\n",
    "        count_mat[v[1],v[2]] += 1\n",
    "    end\n",
    "\n",
    "    count_prop = count_mat ./ sum(count_mat,dims = 1) |> transpose\n",
    "\n",
    "    push!(all_count_prop,(count_prop,max_nmut))\n",
    "end"
   ]
  },
  {
   "cell_type": "code",
   "execution_count": 23,
   "metadata": {},
   "outputs": [
    {
     "data": {
      "image/png": "[encoded data removed]"
     },
     "metadata": {},
     "output_type": "display_data"
    }
   ],
   "source": [
    "fig = Figure(resolution = (400,200),fontsize = fontsize_pub)\n",
    "\n",
    "create_nweight!(fig,mut_prob,all_count_prop,epi_mutn_prob_1,epi_mutn_prob_lS0,epi_mutn_prob_S0,epi_mutn_prob_hS0)\n",
    "\n",
    "fig"
   ]
  },
  {
   "cell_type": "markdown",
   "metadata": {},
   "source": [
    "Compute mutation sizes and types"
   ]
  },
  {
   "cell_type": "code",
   "execution_count": 24,
   "metadata": {},
   "outputs": [],
   "source": [
    "ph_id = findall(tr->(tr.H0-3 > 0) & (tr.H0 != length(tr.geno_traj)),trajectories);\n",
    "\n",
    "function get_relative_size(tr,range_l,range_u,min_affinity,predict_id,vertex_to_predict_label,top_n)\n",
    "\n",
    "    d = [tr.mutant_info[i].mut_type for i in range_l:range_u]\n",
    "    w = [tr.mutant_info[i].weight_id for i in range_l:range_u]\n",
    "\n",
    "    label = tr.inc_metagraph_vertices[tr.H0] ∈ predict_id ? vertex_to_predict_label[tr.inc_metagraph_vertices[tr.H0]] : top_n + 1\n",
    "\n",
    "    all_rel_diff = []\n",
    "    all_type = []\n",
    "    all_labels = []\n",
    "    all_w = []\n",
    "    all_sf = []\n",
    "\n",
    "    for i in range_l:range_u\n",
    "        all_sf_mut = []\n",
    "        for (wi,type) in zip(tr.mutant_info[i].weight_id,tr.mutant_info[i].mut_type)\n",
    "            rel_diff = abs(tr.geno_traj[i+1][wi]) - abs(tr.geno_traj[i][wi]) \n",
    "            push!(all_rel_diff,rel_diff)\n",
    "            push!(all_type,type)\n",
    "            push!(all_labels,label)\n",
    "            push!(all_w,(wi,i))\n",
    "            push!(all_sf,(sign(tr.geno_traj[i][wi]) != sign(tr.geno_traj[i+1][wi])))\n",
    "        end\n",
    "    end\n",
    "\n",
    "    return all_type,all_rel_diff,all_w,all_labels,all_sf\n",
    "end\n",
    "\n",
    "vertex_to_predict_label = Dict(vertex=>n for (n,vertex) in enumerate(sorted_uep[1:top_n]))\n",
    "\n",
    "rel_data_period_1 = [get_relative_size(tr,1,1,min_affinity,sorted_uep[1:top_n],vertex_to_predict_label,top_n) for tr in trajectories[ph_id]]\n",
    "rel_data_period_2 = [get_relative_size(tr,2,tr.H0-2,min_affinity,sorted_uep[1:top_n],vertex_to_predict_label,top_n)  for tr in trajectories[ph_id]]\n",
    "rel_data_period_3 = [get_relative_size(tr,tr.H0-1,tr.H0-1,min_affinity,sorted_uep[1:top_n],vertex_to_predict_label,top_n)  for tr in trajectories[ph_id]]\n",
    "rel_data_period_4 = [get_relative_size(tr,tr.H0,length(tr.geno_traj)-1,min_affinity,sorted_uep[1:top_n],vertex_to_predict_label,top_n) for tr in trajectories[ph_id]];"
   ]
  },
  {
   "cell_type": "code",
   "execution_count": 25,
   "metadata": {},
   "outputs": [],
   "source": [
    "all_rel_sizes = []\n",
    "all_mut_type = []\n",
    "all_tp_ex = []\n",
    "all_tp_new = []\n",
    "all_tp = []\n",
    "\n",
    "nef_prop = []\n",
    "nef_prop_x = []\n",
    "nef_prop_typ = []\n",
    "\n",
    "all_p = []\n",
    "all_p_x = []\n",
    "all_p_typ = []\n",
    "\n",
    "mut_type_dict = Dict((true,:additive)=>1,(false,:additive)=>2,(true,:multiplicative)=>3,(false,:multiplicative)=>4)\n",
    "\n",
    "for (n,v) in enumerate([rel_data_period_1,rel_data_period_2,rel_data_period_3,rel_data_period_4])\n",
    "\n",
    "    rel_sizes = Float64.(reduce(vcat,map(x->x[2],v)))\n",
    "\n",
    "    type_s = reduce(vcat,map(x->x[1],v))\n",
    "\n",
    "    nw = length(type_s)\n",
    "    nmut = length(v)\n",
    "\n",
    "    existing = .!first.(type_s)\n",
    "    new = first.(type_s)\n",
    "\n",
    "    sign_flip = reduce(vcat,map(x->x[5],v))\n",
    "\n",
    "    existing_no_flip = (existing)  .& (.! sign_flip)\n",
    "    existing_flip = (existing)  .& ( sign_flip)\n",
    "\n",
    "    ft = [new[i] ? 1 : existing_no_flip[i] ? 2 : 3 for i in 1:nw]\n",
    "\n",
    "    push!(nef_prop,[sum(new)/nw,sum(existing_no_flip)/nw,sum(existing_flip)/nw])\n",
    "    push!(nef_prop_x,[n,n,n])\n",
    "    push!(nef_prop_typ,[1,2,3])\n",
    "\n",
    "    existing_sm = map(x->.!first.(x[1]),v)\n",
    "    new_sm = map(x->first.(x[1]),v)\n",
    "    sign_flip_sm = map(x->x[5],v)\n",
    "\n",
    "    existing_no_flip_sm = [(existing)  .& (.! sign_flip) for (existing,sign_flip) in zip(existing_sm,sign_flip_sm)]\n",
    "    existing_flip_sm = [(existing)  .& (sign_flip) for (existing,sign_flip) in zip(existing_sm,sign_flip_sm)]\n",
    "\n",
    "    p_new = count(v->any(v),new_sm) / nmut\n",
    "    p_ex = count(v->any(v),existing_no_flip_sm) / nmut\n",
    "    p_fl = count(v->any(v),existing_flip_sm) / nmut\n",
    "\n",
    "    push!(all_tp,[n for _ in 1:nw])\n",
    "    push!(all_rel_sizes,rel_sizes)\n",
    "    push!(all_mut_type,ft)\n",
    "\n",
    "    push!(all_p,[p_new,p_ex,p_fl])\n",
    "    push!(all_p_x,[n,n,n])\n",
    "    push!(all_p_typ,[1,2,3])\n",
    "\n",
    "end\n",
    "\n",
    "all_rel_sizes = reduce(vcat,all_rel_sizes)\n",
    "\n",
    "all_new_ex  = Int64.(reduce(vcat,all_mut_type))\n",
    "all_tp  = reduce(vcat,all_tp);\n",
    "nef_prop = reduce(vcat,nef_prop)\n",
    "nef_prop_x = reduce(vcat,nef_prop_x);\n",
    "nef_prop_typ = reduce(vcat,nef_prop_typ);\n",
    "\n",
    "all_p = reduce(vcat,all_p)\n",
    "all_p_x = reduce(vcat,all_p_x)\n",
    "all_p_typ = reduce(vcat,all_p_typ);"
   ]
  },
  {
   "cell_type": "code",
   "execution_count": 26,
   "metadata": {},
   "outputs": [
    {
     "data": {
      "image/png": "[encoded data removed]"
     },
     "metadata": {},
     "output_type": "display_data"
    }
   ],
   "source": [
    "fig = Figure(resolution = (260,240),fontsize = fontsize_pub)\n",
    "\n",
    "mut_color_palette = palette(:viridis, 3)\n",
    "\n",
    "ax0 = Axis(fig[1,1],ylabel = L\"\\text{carries w.c. type} \", xgridvisible = false, ygridvisible = false, xticklabelsvisible = false)\n",
    "\n",
    "ax = Axis(fig[2,1],ylabel = L\"\\frac{|w^{n+1}_{ij}| - |w^{n}_{ij}|}{|w_{\\text{max}}|}\", xgridvisible = false, ygridvisible = false, xticklabelrotation = pi/2, xticklabelsvisible = false)\n",
    "\n",
    "CairoMakie.boxplot!(ax,all_tp,all_rel_sizes ./ abs(max_w),dodge = all_new_ex,show_outliers = false,color =  [mut_color_palette[i] for i in all_new_ex])\n",
    "CairoMakie.barplot!(ax0,all_p_x,all_p,dodge = all_p_typ,color = [mut_color_palette[i] for i in all_p_typ])\n",
    "\n",
    "ax0.yticks = ([0,0.5,1],[L\"0\",L\"50\",L\"100\"])\n",
    "ax.yticks = ([-0.2,0,0.2],[L\"-0.2\",L\"0\",L\"0.2\"])\n",
    "\n",
    "rowgap!(fig.layout,Relative(0.05))\n",
    "\n",
    "fig"
   ]
  },
  {
   "cell_type": "markdown",
   "metadata": {},
   "source": [
    "Compute epistasis types"
   ]
  },
  {
   "cell_type": "code",
   "execution_count": 27,
   "metadata": {},
   "outputs": [],
   "source": [
    "all_2mut_epi_char = [[],[]]\n",
    "\n",
    "all_neutral_corr = []\n",
    "all_ne_corr = []\n",
    "all_me_corr = []\n",
    "all_se_corr = []\n",
    "all_rse_corr = [] \n",
    "\n",
    "me_ex = []\n",
    "rse_ex = []\n",
    "se_ex = []\n",
    "ne_ex = []\n",
    "\n",
    "me_ex = []\n",
    "\n",
    "small_lim = 1e-2\n",
    "\n",
    "k_choice = 3\n",
    "\n",
    "\n",
    "for k in 1:length(sorted_uep)\n",
    "    mech1_traj = filter(tr->tr.inc_metagraph_vertices[end] == sorted_uep[k],trajectories);\n",
    "    lmst = length(mech1_traj)\n",
    "\n",
    "    if lmst > min_n\n",
    "\n",
    "        mech1_traj = filter(tr->tr.inc_metagraph_vertices[end] == sorted_uep[k],trajectories);\n",
    "\n",
    "        mech1_mst = map(tr->tr.minimal_stripe_subgraphs[end],mech1_traj)[1];\n",
    "        \n",
    "        mech1_mst_id = findall(x->x!=0,mech1_mst);\n",
    "\n",
    "        mech1_en = reduce(hcat,reduce(vcat,map(tr->[f .- l for (f,l) in zip(tr.geno_traj[2:end], tr.geno_traj[1:end-1])],mech1_traj)))\n",
    "\n",
    "        epi_counts_lS0 = map(tr->tr.epistasis[1:tr.H0-2],mech1_traj);\n",
    "\n",
    "        mut_info_lS0 = map(tr->[m.weight_id for m in tr.mutant_info[1:tr.H0-2]],mech1_traj);\n",
    "\n",
    "        epi_counts_hS0 = map(tr->tr.epistasis[tr.H0-1:end],mech1_traj);\n",
    "\n",
    "        mut_info_hS0 = map(tr->[m.weight_id for m in tr.mutant_info[tr.H0-1:end]],mech1_traj);\n",
    "\n",
    "        for (n,(e_data,m_data)) in enumerate(zip([epi_counts_lS0,epi_counts_hS0],[mut_info_lS0,mut_info_hS0]))\n",
    "        \n",
    "            epi_info_ = [[(m,e) for (m,e) in zip(mv,ev)] for (mv,ev) in zip(m_data,e_data)];\n",
    "            \n",
    "            epi_info_2mut = filter(x->length(x) > 0, map(ei->filter(x->length(x[2]) == 4,ei),epi_info_));\n",
    "\n",
    "            epi_char_2mut = map(ei->[(characterise_weight_int(wi,mech1_mst_id),type_epi(e[1],e[2],e[3],e[4],fitness_eps)) for (wi,e) in ei],epi_info_2mut);\n",
    "\n",
    "            push!(all_2mut_epi_char[n],reduce(vcat,epi_char_2mut));\n",
    "        end\n",
    "\n",
    "        #########\n",
    "\n",
    "        epi_types_raw = reduce(vcat,map(tr->tr.epistasis,mech1_traj))\n",
    "\n",
    "        @assert length(epi_types_raw) == size(mech1_en,2)\n",
    "\n",
    "        weight2_id = findall(x->length(x) == 4, epi_types_raw)\n",
    "\n",
    "        weight2_epi_types = map(e->type_epi(e[1],e[2],e[3],e[4],fitness_eps),epi_types_raw[weight2_id])\n",
    "\n",
    "        mech1_en_2weight = mech1_en[:,weight2_id]\n",
    "\n",
    "        for i in 1:10\n",
    "            for j in 1:10\n",
    "\n",
    "                if i > j \n",
    "\n",
    "                    wi = mech1_en_2weight[i,weight2_epi_types .== :Neutral]\n",
    "                    wj = mech1_en_2weight[j,weight2_epi_types .== :Neutral]\n",
    "\n",
    "                    id = [!any(abs.(n) .<= small_lim) for n in zip(wi, wj)]\n",
    "\n",
    "                    if sum(id) > 50\n",
    "                        push!(all_neutral_corr,corspearman(wi[id],wj[id]))\n",
    "\n",
    "                        if k == k_choice\n",
    "                            push!(neutral_ex,(wi[id],wj[id],i,j))\n",
    "                        end\n",
    "                    end\n",
    "\n",
    "                end\n",
    "            end\n",
    "        end\n",
    "\n",
    "        for i in 1:10\n",
    "            for j in 1:10\n",
    "                if i > j \n",
    "                    wi = mech1_en_2weight[i,weight2_epi_types .== :ne]\n",
    "                    wj = mech1_en_2weight[j,weight2_epi_types .== :ne]\n",
    "\n",
    "                    # id = [!any(n .== 0) for n in zip(wi, wj)]\n",
    "                    id = [!any(abs.(n) .<= small_lim) for n in zip(wi, wj)]\n",
    "\n",
    "                    if sum(id) > 50\n",
    "                        push!(all_ne_corr,corspearman(wi[id],wj[id]))\n",
    "\n",
    "                        if k == k_choice\n",
    "                            push!(ne_ex,(wi[id],wj[id],i,j))\n",
    "                        end\n",
    "\n",
    "                    end\n",
    "\n",
    "                end\n",
    "            end\n",
    "        end\n",
    "\n",
    "        for i in 1:10\n",
    "            for j in 1:10\n",
    "\n",
    "                if i > j \n",
    "                    wi = mech1_en_2weight[i,weight2_epi_types .== :me]\n",
    "                    wj = mech1_en_2weight[j,weight2_epi_types .== :me]\n",
    "\n",
    "                    # id = [!any(n .== 0) for n in zip(wi, wj)]\n",
    "                    id = [!any(abs.(n) .<= small_lim) for n in zip(wi, wj)]\n",
    "\n",
    "                    if sum(id) > 50\n",
    "                        push!(all_me_corr,corspearman(wi[id],wj[id]))\n",
    "\n",
    "                        if k == k_choice\n",
    "                            push!(me_ex,(wi[id],wj[id],i,j))\n",
    "                        end\n",
    "                    end\n",
    "\n",
    "                end\n",
    "            end\n",
    "        end\n",
    "\n",
    "        for i in 1:10\n",
    "            for j in 1:10\n",
    "\n",
    "                if i > j\n",
    "                    wi = mech1_en_2weight[i,weight2_epi_types .== :se]\n",
    "                    wj = mech1_en_2weight[j,weight2_epi_types .== :se]\n",
    "\n",
    "                    # id = [!any(n .== 0) for n in zip(wi, wj)]\n",
    "                    id = [!any(abs.(n) .<= small_lim) for n in zip(wi, wj)]\n",
    "\n",
    "                    if sum(id) > 50\n",
    "                        push!(all_se_corr,corspearman(wi[id],wj[id]))\n",
    "                        if k == k_choice\n",
    "                            push!(se_ex,(wi[id],wj[id],i,j))\n",
    "                        end\n",
    "                    end\n",
    "\n",
    "                end\n",
    "            end\n",
    "        end\n",
    "\n",
    "        for i in 1:10\n",
    "            for j in 1:10\n",
    "\n",
    "                if i > j\n",
    "                    wi = mech1_en_2weight[i,weight2_epi_types .== :rse]\n",
    "                    wj = mech1_en_2weight[j,weight2_epi_types .== :rse]\n",
    "\n",
    "                    id = [!any(abs.(n) .<= small_lim) for n in zip(wi, wj)]\n",
    "\n",
    "                    if sum(id) > 50\n",
    "                        push!(all_rse_corr,corspearman(wi[id],wj[id]))\n",
    "\n",
    "                        if k == k_choice\n",
    "                            push!(rse_ex,(wi[id],wj[id],i,j))\n",
    "                        end\n",
    "                    end\n",
    "                end\n",
    "            end\n",
    "        end\n",
    "        \n",
    "    end\n",
    "end\n",
    "\n",
    "for n in [1,2]\n",
    "    all_2mut_epi_char[n] = reduce(vcat,all_2mut_epi_char[n])\n",
    "end\n",
    "\n",
    "all_neutral_corr = filter(x->x ∉ [0,1],all_neutral_corr)\n",
    "all_ne_corr = filter(x->x ∉ [0,1],all_ne_corr)\n",
    "all_me_corr = filter(x->x ∉ [0,1],all_me_corr)\n",
    "all_se_corr = filter(x->x ∉ [0,1],all_se_corr)\n",
    "all_rse_corr = filter(x->x ∉ [0,1],all_rse_corr);\n",
    "\n",
    "\n",
    "##########################\n",
    "\n",
    "\n",
    "ls0_mst_corr = []\n",
    "ls0_non_mst_corr = []\n",
    "ls0_inter_mst_corr = []\n",
    "\n",
    "hs0_mst_corr = []\n",
    "hs0_non_mst_corr = []\n",
    "hs0_inter_mst_corr = []\n",
    "\n",
    "for k in 1:length(sorted_uep)\n",
    "    mech1_traj = filter(tr->tr.inc_metagraph_vertices[end] == sorted_uep[k],trajectories);\n",
    "    lmst = length(mech1_traj)\n",
    "\n",
    "    if lmst > min_n\n",
    "\n",
    "        mech1_mst = map(tr->tr.minimal_stripe_subgraphs[end],mech1_traj)[1];\n",
    "        mech1_mst_id = findall(x->x!=0,mech1_mst);\n",
    "\n",
    "        n_mech1_mst_id = [i for i in 1:10 if i ∉ mech1_mst_id ]\n",
    "\n",
    "        mech1_en_lS0 = reduce(hcat,reduce(vcat,map(tr->[f .- l for (f,l) in zip(tr.geno_traj[2:tr.H0-1], tr.geno_traj[1:tr.H0-2])],mech1_traj)))\n",
    "\n",
    "        mech1_en_hS0 = reduce(hcat,reduce(vcat,map(tr->[f .- l for (f,l) in zip(tr.geno_traj[tr.H0+1:end], tr.geno_traj[tr.H0:end-1])],mech1_traj)))\n",
    "\n",
    "        for (ni,i) in enumerate(mech1_mst_id) \n",
    "            for (nj,j) in enumerate(mech1_mst_id) \n",
    "                if ni > nj\n",
    "                    id_lS0 = [!any(n .== 0) for n in zip(mech1_en_lS0[i,:],mech1_en_lS0[j,:])]\n",
    "                    id_hS0 = [!any(n .== 0) for n in zip(mech1_en_hS0[i,:],mech1_en_hS0[j,:])]\n",
    "\n",
    "                    if sum(id_lS0) > 100\n",
    "                        push!(ls0_mst_corr,corspearman(mech1_en_lS0[i,id_lS0],mech1_en_lS0[j,id_lS0]))\n",
    "                    end\n",
    "\n",
    "                    if sum(id_hS0) > 100\n",
    "                        push!(hs0_mst_corr,corspearman(mech1_en_hS0[i,id_hS0],mech1_en_hS0[j,id_hS0]))\n",
    "                    end\n",
    "                end\n",
    "            end\n",
    "        end\n",
    "\n",
    "        for (ni,i) in enumerate(n_mech1_mst_id) \n",
    "            for (nj,j) in enumerate(n_mech1_mst_id) \n",
    "                if ni > nj\n",
    "                    id_lS0 = [!any(n .== 0) for n in zip(mech1_en_lS0[i,:],mech1_en_lS0[j,:])]\n",
    "                    id_hS0 = [!any(n .== 0) for n in zip(mech1_en_hS0[i,:],mech1_en_hS0[j,:])]\n",
    "\n",
    "                    if sum(id_lS0) > 100\n",
    "                        push!(ls0_non_mst_corr,corspearman(mech1_en_lS0[i,id_lS0],mech1_en_lS0[j,id_lS0]))\n",
    "                    end\n",
    "\n",
    "                    if sum(id_hS0) > 100\n",
    "                        push!(hs0_non_mst_corr,corspearman(mech1_en_hS0[i,id_hS0],mech1_en_hS0[j,id_hS0]))\n",
    "                    end\n",
    "                end\n",
    "            end\n",
    "        end\n",
    "\n",
    "        for (ni,i) in enumerate(mech1_mst_id) \n",
    "            for (nj,j) in enumerate(n_mech1_mst_id) \n",
    "                if ni > nj\n",
    "                    id_lS0 = [!any(n .== 0) for n in zip(mech1_en_lS0[i,:],mech1_en_lS0[j,:])]\n",
    "                    id_hS0 = [!any(n .== 0) for n in zip(mech1_en_hS0[i,:],mech1_en_hS0[j,:])]\n",
    "\n",
    "                    if sum(id_lS0) > 100\n",
    "                        push!(ls0_inter_mst_corr,corspearman(mech1_en_lS0[i,id_lS0],mech1_en_lS0[j,id_lS0]))\n",
    "                    end\n",
    "\n",
    "                    if sum(id_hS0) > 100\n",
    "                        push!(hs0_inter_mst_corr,corspearman(mech1_en_hS0[i,id_hS0],mech1_en_hS0[j,id_hS0]))\n",
    "                    end\n",
    "                end\n",
    "            end\n",
    "        end\n",
    "\n",
    "    end\n",
    "end"
   ]
  },
  {
   "cell_type": "code",
   "execution_count": 28,
   "metadata": {},
   "outputs": [
    {
     "data": {
      "image/png": "[encoded data removed]"
     },
     "metadata": {},
     "output_type": "display_data"
    }
   ],
   "source": [
    "fig = Figure(resolution = (460,360),fontsize = fontsize_pub)\n",
    "\n",
    "create_epi_correlation_summary!(fig,all_2mut_epi_char,[all_neutral_corr,all_ne_corr,all_me_corr,all_se_corr,all_rse_corr],[ls0_non_mst_corr,ls0_inter_mst_corr,ls0_mst_corr,hs0_non_mst_corr,hs0_inter_mst_corr,hs0_mst_corr],rse_ex,ne_ex,top_n_colors)\n",
    "\n",
    "fig"
   ]
  },
  {
   "cell_type": "code",
   "execution_count": 29,
   "metadata": {},
   "outputs": [
    {
     "data": {
      "image/png": "[encoded data removed]"
     },
     "metadata": {},
     "output_type": "display_data"
    }
   ],
   "source": [
    "fig = Figure(resolution = (460,200),fontsize = fontsize_pub)\n",
    "\n",
    "create_epi_type_counts_neutral_square!(fig,trajectories,false,false,top_n_colors,fitness_eps)\n",
    "\n",
    "fig"
   ]
  },
  {
   "cell_type": "markdown",
   "metadata": {},
   "source": [
    "Predictability analysis"
   ]
  },
  {
   "cell_type": "code",
   "execution_count": 33,
   "metadata": {},
   "outputs": [
    {
     "name": "stderr",
     "output_type": "stream",
     "text": [
      "WARNING: redefinition of constant c_types. This may fail, cause incorrect answers, or produce other errors.\n",
      "WARNING: redefinition of constant predict_colors. This may fail, cause incorrect answers, or produce other errors.\n"
     ]
    }
   ],
   "source": [
    "top_n = 4\n",
    "\n",
    "predict_id = sorted_uep[1:top_n]\n",
    "\n",
    "label_names = 1:top_n |> collect\n",
    "\n",
    "trajectories_p = copy(trajectories)\n",
    "\n",
    "vertex_to_predict_label = Dict(vertex=>n for (n,vertex) in enumerate(predict_id))\n",
    "predict_label_to_vertex = Dict(n=>vertex for (n,vertex) in enumerate(predict_id))\n",
    "predict_label_to_vertex[top_n+1] = -1\n",
    "labels = map(tr->tr.inc_metagraph_vertices[tr.H0] ∈ predict_id ? vertex_to_predict_label[tr.inc_metagraph_vertices[tr.H0]] : top_n + 1,trajectories_p);\n",
    "\n",
    "const c_types = [\"c\" for _ in 1:10];\n",
    "\n",
    "const predict_colors = vcat(ext_palette[1:top_n],[:grey]);\n",
    "\n",
    "null_H0_dist = [count(x->x==i,labels) for i in 1:top_n+1] ./ length(trajectories_p);\n"
   ]
  },
  {
   "cell_type": "code",
   "execution_count": 34,
   "metadata": {},
   "outputs": [
    {
     "data": {
      "text/plain": [
       "false"
      ]
     },
     "metadata": {},
     "output_type": "display_data"
    }
   ],
   "source": [
    "train_ttl = false\n",
    "train_gtl = false"
   ]
  },
  {
   "cell_type": "code",
   "execution_count": 38,
   "metadata": {},
   "outputs": [
    {
     "data": {
      "image/png": "[encoded data removed]"
     },
     "metadata": {},
     "output_type": "display_data"
    }
   ],
   "source": [
    "fig = Figure(resolution = (460,200),fontsize = fontsize_pub)\n",
    "\n",
    "ax = Axis(fig[1,1],xlabel = L\"\\text{Prediction labels}\", ylabel =  \"Frequency\")\n",
    "\n",
    "CairoMakie.barplot!(ax,[1,2,3,4,5],null_H0_dist, color = predict_colors[1:5])\n",
    "\n",
    "ax.xticks = (1:5,[L\"\\text{MST:1}\",L\"\\text{MST:2}\",L\"\\text{MST:3}\",L\"\\text{MST:4}\",L\"\\text{MST:Other}\"])\n",
    "\n",
    "cond_save(plotsdirx(plot_save_dir_supp,\"NullH0Dist.pdf\"),fig,save_fig)\n",
    "\n",
    "fig"
   ]
  },
  {
   "cell_type": "code",
   "execution_count": 39,
   "metadata": {},
   "outputs": [
    {
     "data": {
      "text/plain": [
       "\"DN4\""
      ]
     },
     "metadata": {},
     "output_type": "display_data"
    }
   ],
   "source": [
    "ac = \"DN\" * string(top_n)"
   ]
  },
  {
   "cell_type": "code",
   "execution_count": 40,
   "metadata": {},
   "outputs": [],
   "source": [
    "train_id = load(local_nb_data * \"train_test_ids_Other_\" * ac * \".jld2\", \"train\")\n",
    "test_id = load(local_nb_data * \"train_test_ids_Other_\" * ac * \".jld2\", \"test\");"
   ]
  },
  {
   "cell_type": "code",
   "execution_count": 41,
   "metadata": {},
   "outputs": [],
   "source": [
    "X_train_ttl_v = [reduce(hcat,unique([vcat(features,label) for features in tr.topologies[1:tr.H0-1]])) for (label,tr) in zip(labels[train_id],trajectories_p[train_id])]\n",
    "X_train_ttl = reduce(hcat,X_train_ttl_v) |> transpose |> collect\n",
    "\n",
    "y_train_ttl = copy(Int.(X_train_ttl[:,13]))\n",
    "\n",
    "X_train_gtl_v = [reduce(hcat,[vcat(features,label) for features in tr.geno_traj[1:tr.H0-1]]) for (label,tr) in zip(labels[train_id],trajectories_p[train_id])]\n",
    "X_train_gtl  = reduce(hcat,X_train_gtl_v) |> transpose |> collect;\n",
    "\n",
    "y_train_gtl = copy(Int.(X_train_gtl[:,13]))\n",
    "\n",
    "###################\n",
    "\n",
    "X_test_ttl_v = [reduce(hcat,unique([vcat(features,label) for features in tr.topologies[1:tr.H0-1]])) for (label,tr) in zip(labels[test_id],trajectories_p[test_id])]\n",
    "X_test_ttl = reduce(hcat,X_test_ttl_v) |> transpose |> collect\n",
    "\n",
    "y_test_ttl = copy(Int.(X_test_ttl[:,13]))\n",
    "\n",
    "X_test_gtl_v = [reduce(hcat,[vcat(features,label) for features in tr.geno_traj[1:tr.H0-1]]) for (label,tr) in zip(labels[test_id],trajectories_p[test_id])]\n",
    "X_test_gtl  = reduce(hcat,X_test_gtl_v) |> transpose |> collect;\n",
    "\n",
    "y_test_gtl = copy(Int.(X_test_gtl[:,13]));"
   ]
  },
  {
   "cell_type": "code",
   "execution_count": 42,
   "metadata": {},
   "outputs": [],
   "source": [
    "X_train_ttl_v_length = [reduce(hcat,[vcat(features,length(unique(tr.topologies[1:tr.H0-1]))) for features in unique(tr.topologies[1:tr.H0-1])]) for (label,tr) in zip(labels[train_id],trajectories_p[train_id])]\n",
    "X_train_ttl_length  = reduce(hcat,X_train_ttl_v_length) |> transpose |> collect;\n",
    "\n",
    "length_train_ttl = copy(Int.(X_train_ttl_length[:,13]));\n",
    "\n",
    "X_train_gtl_v_length = [reduce(hcat,[vcat(features,tr.H0-1) for features in tr.geno_traj[1:tr.H0-1]]) for (label,tr) in zip(labels[train_id],trajectories_p[train_id])]\n",
    "X_train_gtl_length  = reduce(hcat,X_train_gtl_v_length) |> transpose |> collect;\n",
    "\n",
    "length_train_gtl = copy(Int.(X_train_gtl_length[:,13]));"
   ]
  },
  {
   "cell_type": "code",
   "execution_count": 43,
   "metadata": {},
   "outputs": [],
   "source": [
    "for id in train_id\n",
    "    trajectories_p[id].train_test_indicator = :train\n",
    "end\n",
    "\n",
    "for id in test_id\n",
    "    trajectories_p[id].train_test_indicator = :test\n",
    "end"
   ]
  },
  {
   "cell_type": "code",
   "execution_count": 44,
   "metadata": {},
   "outputs": [],
   "source": [
    "model_ttl = xgboost.Booster()\n",
    "\n",
    "d_train_ttl = xgboost.DMatrix(X_train_ttl[:,1:10], label=y_train_ttl .- 1,feature_names = weight_names)\n",
    "d_test_ttl = xgboost.DMatrix(X_test_ttl[:,1:10], label=y_test_ttl .- 1,feature_names = weight_names)\n",
    "\n",
    "model_ttl.load_model(local_nb_data * \"ModelTTL_Other_\" * ac * \".json\")\n",
    "\n",
    "ttl_prob_train = model_ttl.predict(d_train_ttl)\n",
    "ttl_prob_test = model_ttl.predict(d_test_ttl)\n",
    "\n",
    "y_pred_train_ttl = mapslices(x->argmax(x),ttl_prob_train,dims = 2)\n",
    "y_pred_test_ttl = mapslices(x->argmax(x),ttl_prob_test,dims = 2);\n",
    "\n",
    "\n",
    "#############\n",
    "\n",
    "\n",
    "model_gtl = xgboost.Booster()\n",
    "\n",
    "d_train_gtl = xgboost.DMatrix(X_train_gtl[:,1:10], label=y_train_gtl .- 1,feature_names = weight_names)\n",
    "d_test_gtl = xgboost.DMatrix(X_test_gtl[:,1:10], label=y_test_gtl .- 1,feature_names = weight_names)\n",
    "\n",
    "model_gtl.load_model(local_nb_data * \"ModelGTL_Other_\" * ac * \".json\")\n",
    "\n",
    "gtl_prob_train = model_gtl.predict(d_train_gtl)\n",
    "gtl_prob_test = model_gtl.predict(d_test_gtl)\n",
    "\n",
    "y_pred_train_gtl = mapslices(x->argmax(x),gtl_prob_train,dims = 2)\n",
    "y_pred_test_gtl = mapslices(x->argmax(x),gtl_prob_test,dims = 2);"
   ]
  },
  {
   "cell_type": "code",
   "execution_count": 45,
   "metadata": {},
   "outputs": [],
   "source": [
    "for tr in trajectories_p\n",
    "    assign_predictions!(tr,model_ttl,:tt,predict_label_to_vertex)\n",
    "    assign_predictions!(tr,model_gtl,:gt,predict_label_to_vertex)\n",
    "end\n",
    "\n",
    "for (tr,label) in zip(trajectories_p,labels)\n",
    "    assign_tt_other_prediction_errors!(tr,predict_label_to_vertex[label],predict_id)\n",
    "    assign_gt_other_prediction_errors!(tr,predict_label_to_vertex[label],predict_id)\n",
    "end\n",
    "\n",
    "for tr in trajectories_p\n",
    "    assign_weight_edits!(tr)\n",
    "end\n",
    "\n",
    "for tr in trajectories_p\n",
    "    kl_div = [i == 1 ? StatsBase.kldivergence(tr.gt_label_probabilities[1,:],tr.gt_label_probabilities[i,:] .+ eps(),size(tr.gt_label_probabilities,2)) :  StatsBase.kldivergence(tr.gt_label_probabilities[i-1,:],tr.gt_label_probabilities[i,:] .+ eps(),size(tr.gt_label_probabilities,2)) for i in 1:size(tr.gt_label_probabilities,1)]\n",
    "    tr.gt_kl_div = kl_div\n",
    "end"
   ]
  },
  {
   "cell_type": "code",
   "execution_count": 46,
   "metadata": {},
   "outputs": [],
   "source": [
    "if load_shap_data\n",
    "    shap_cont = load(local_nb_data * \"shap_contributions_N6.jld2\")[\"data\"];\n",
    "\n",
    "    for (tr,shap_values) in zip(trajectories_p,shap_cont)\n",
    "        tr.other = shap_values\n",
    "    end\n",
    "else\n",
    "    for tr in trajectories_p\n",
    "        assign_shap!(tr,model_gtl,:gt)\n",
    "    end\n",
    "\n",
    "    save(\"shap_contributions_other.jld2\", \"data\",map(x->x.other,trajectories_p))\n",
    "end\n"
   ]
  },
  {
   "cell_type": "code",
   "execution_count": 50,
   "metadata": {},
   "outputs": [
    {
     "name": "stderr",
     "output_type": "stream",
     "text": [
      "WARNING: redefinition of constant mut_choice_map. This may fail, cause incorrect answers, or produce other errors.\n",
      "WARNING: redefinition of constant powerset_topologies. This may fail, cause incorrect answers, or produce other errors.\n"
     ]
    }
   ],
   "source": [
    "for tr in trajectories\n",
    "    cr_new = map(cr->characterise_epistasis_deltas(cr,fitness_eps),tr.epistasis)\n",
    "    tr.epistasis = cr_new\n",
    "end"
   ]
  },
  {
   "cell_type": "code",
   "execution_count": 51,
   "metadata": {},
   "outputs": [],
   "source": [
    "ph_id = findall(tr->tr.H0 > 2,trajectories_p); # dont include any trajectories which acieved stripe on first mutation\n",
    "\n",
    "all_epi = reduce(vcat,[tr.epistasis[1:tr.H0-2] for tr in trajectories_p[ph_id]])\n",
    "all_shap = reduce(vcat,[[tr.other[n+1,:,tr.mutant_info[n].weight_id] for n in 1:tr.H0-2] for tr in trajectories_p[ph_id]])\n",
    "\n",
    "# each entry of all_shap is a matrix n_pred_class x n_weight representing the shap explanation for the mutant\n",
    "# all_epi contains the dependency evaluation for each mutant\n",
    "\n",
    "@assert length(all_epi) == length(all_shap)\n",
    "\n",
    "se_2mut_id = findall(x->(x[1] == :se) & (length(x[2]) == 4), all_epi);\n",
    "rse_2mut_id = findall(x->(x[1] == :rse) & (length(x[2]) == 4), all_epi);\n",
    "\n",
    "function compute_weight_importance(shap_mat)\n",
    "    return sum(abs.(shap_mat),dims = 1)\n",
    "end\n",
    "\n",
    "function accept_ratio(combi_result,fitness_eps)\n",
    "\n",
    "    accept_new_mutant = combi_result[2:end-1] .>= fitness_eps\n",
    "\n",
    "    return accept_new_mutant\n",
    "end\n",
    "\n",
    "shap_m_se = reduce(vcat,map(x->compute_weight_importance(x),all_shap[se_2mut_id])) |> transpose |> collect\n",
    "shap_m_rse = reduce(vcat,map(x->compute_weight_importance(x),all_shap[rse_2mut_id])) |> transpose |> collect;"
   ]
  },
  {
   "cell_type": "code",
   "execution_count": 52,
   "metadata": {},
   "outputs": [],
   "source": [
    "# identify which is carrier (within epsilon of original fitness) versus hitchhiker \n",
    "\n",
    "epi_c_rse = reduce(hcat,map(x->accept_ratio(x[2],fitness_eps),all_epi[rse_2mut_id])) \n",
    "epi_c_se = reduce(hcat,map(x->accept_ratio(x[2],fitness_eps),all_epi[se_2mut_id])) \n",
    "\n",
    "epi_c_sef = epi_c_se[:,map(x->x[2],findall(x->x==1,sum(epi_c_se,dims = 1)))] \n",
    "\n",
    "# compute ration of shapley importance between carrier and hitchhiker\n",
    "\n",
    "epi_ratio_se = reduce(vcat,[shap_m_se[epi_c_sef[:,n],n] ./ shap_m_se[.!epi_c_sef[:,n],n] for n in 1:size(epi_c_sef,2)]);"
   ]
  },
  {
   "cell_type": "code",
   "execution_count": 53,
   "metadata": {},
   "outputs": [
    {
     "data": {
      "image/png": "[encoded data removed]"
     },
     "metadata": {},
     "output_type": "display_data"
    }
   ],
   "source": [
    "fig = CairoMakie.Figure(resolution = (300,120),fontsize = 12.)\n",
    "\n",
    "ax = Axis(fig[1,1],ygridvisible = false,xgridvisible = false, xlabel = L\"\\text{Shapley ratio, } \\Phi_{\\text{carrier}} / \\Phi_{\\text{hitchhike}}\", ylabel = L\"\\text{Freq.}\")\n",
    "\n",
    "CairoMakie.hist!(ax,filter(x->x < 4,epi_ratio_se),bins = 50,color = (:grey,0.5), normalization = :probability)\n",
    "\n",
    "CairoMakie.vlines!(ax,1., color = :red, linestyle = :dash)\n",
    "\n",
    "ax.xticks = (0:0.5:2.5,[L\"0.\",L\"0.5\",L\"1.0\",L\"1.5\",L\"2.0\",L\"2.5\"])\n",
    "\n",
    "ax.yticks = ([0.,0.05,0.1],[L\"0.\",L\"0.05\",L\"0.1\"])\n",
    "\n",
    "CairoMakie.xlims!(ax,0.,2.5)\n",
    "\n",
    "fig"
   ]
  },
  {
   "cell_type": "code",
   "execution_count": 54,
   "metadata": {},
   "outputs": [],
   "source": [
    "test_traj = findall(tr->(tr.train_test_indicator == :test) & (tr.H0 > 2),trajectories_p);\n",
    "\n",
    "label_streak = labels[test_traj];"
   ]
  },
  {
   "cell_type": "code",
   "execution_count": 55,
   "metadata": {},
   "outputs": [
    {
     "data": {
      "text/plain": [
       "Histogram{Int64, 1, Tuple{Vector{Float64}}}\n",
       "edges:\n",
       "  [0.0, 0.25, 0.45, 0.65, 1.0]\n",
       "weights: [22200, 25002, 27765, 23652]\n",
       "closed: right\n",
       "isdensity: false"
      ]
     },
     "metadata": {},
     "output_type": "display_data"
    }
   ],
   "source": [
    "\n",
    "bin_boundaries = [0.,0.25,0.45,0.65,1.]\n",
    "\n",
    "n_bins = length(bin_boundaries)-1\n",
    "\n",
    "axis_bins = bin_boundaries[1:end-1] .+ (bin_boundaries[2:end] .- bin_boundaries[1:end-1] ) ./ 2\n",
    "\n",
    "all_we_p = reduce(vcat,map(tr->tr.weight_edits[1:tr.H0-1] ./ tr.weight_edits[tr.H0],trajectories_p[test_traj]))\n",
    "\n",
    "h_we = fit(Histogram, all_we_p, bin_boundaries; closed = :right)"
   ]
  },
  {
   "cell_type": "code",
   "execution_count": 56,
   "metadata": {},
   "outputs": [
    {
     "name": "stderr",
     "output_type": "stream",
     "text": [
      "WARNING: redefinition of constant mut_choice_map. This may fail, cause incorrect answers, or produce other errors.\n",
      "WARNING: redefinition of constant powerset_topologies. This may fail, cause incorrect answers, or produce other errors.\n"
     ]
    }
   ],
   "source": [
    "pred_scores_gt = [restricted_pred_scores_bins(trajectories_p[test_traj],r,h_we,labels[test_traj],false,:gt) for r in 1:n_bins]\n",
    "pred_scores_tt = [restricted_pred_scores_bins(trajectories_p[test_traj],r,h_we,labels[test_traj],false,:tt) for r in 1:n_bins]\n",
    "pred_scores_null = [restricted_pred_scores_bins(trajectories_p[test_traj],r,h_we,labels[test_traj],true,:gt) for r in 1:n_bins];\n",
    "\n",
    "class_recall_gt = reduce(hcat,map(p->p[5],pred_scores_gt));\n",
    "class_recall_tt = reduce(hcat,map(p->p[5],pred_scores_tt));\n",
    "\n",
    "total_accuracy_gt = map(p->p[1],pred_scores_gt);\n",
    "total_accuracy_tt = map(p->p[1],pred_scores_tt);\n",
    "total_accuracy_null = map(p->p[1],pred_scores_null);\n",
    "\n",
    "f1_macro_gt = map(p->p[3],pred_scores_gt);\n",
    "f1_macro_tt = map(p->p[3],pred_scores_tt);\n",
    "f1_macro_null = map(p->p[3],pred_scores_null);\n",
    "\n",
    "av_we = map(p->p[6],pred_scores_gt);\n",
    "\n",
    "f1_class_gt = reduce(hcat,map(p->p[4],pred_scores_gt));"
   ]
  },
  {
   "cell_type": "code",
   "execution_count": 57,
   "metadata": {},
   "outputs": [
    {
     "data": {
      "image/png": "[encoded data removed]"
     },
     "metadata": {},
     "output_type": "display_data"
    }
   ],
   "source": [
    "fig = Figure(resolution = (160,280),fontsize = fontsize_pub)\n",
    "\n",
    "ax1 = Axis(fig[1,1],xgridvisible = false,ygridvisible = false)\n",
    "ax2 = Axis(fig[2,1],xgridvisible = false,ygridvisible = false)\n",
    "\n",
    "axis_bins = copy(av_we)\n",
    "\n",
    "for n in 1:top_n+1\n",
    "    l1 = CairoMakie.lines!(ax1,axis_bins,class_recall_gt[n,:],color = predict_colors[n],linewidth = 2.)\n",
    "    l1 = CairoMakie.lines!(ax2,axis_bins,class_recall_tt[n,:],color = predict_colors[n],linewidth = 2.)\n",
    "    CairoMakie.scatter!(ax1,axis_bins,class_recall_gt[n,:],color = predict_colors[n],markersize = 8.)\n",
    "    CairoMakie.scatter!(ax2,axis_bins,class_recall_tt[n,:],color = predict_colors[n],markersize = 8.)\n",
    "end\n",
    "\n",
    "CairoMakie.lines!(ax1,axis_bins,total_accuracy_gt, linestyle = :dash,color = :black)\n",
    "CairoMakie.lines!(ax2,axis_bins,total_accuracy_tt, linestyle = :dash,color = :black)\n",
    "\n",
    "ax1.xticks = (axis_bins, string.(round.(axis_bins,digits =2)))\n",
    "ax1.yticks = ([0,0.5,1.], [L\"0\",L\"0.5\",L\"1.0\"])\n",
    "\n",
    "CairoMakie.ylims!(ax1,0.,1.)\n",
    "\n",
    "ax2.xticks = (axis_bins, string.(round.(axis_bins,digits =2)))\n",
    "ax2.yticks = ([0,0.5,1.], [L\"0\",L\"0.5\",L\"1.0\"])\n",
    "\n",
    "CairoMakie.ylims!(ax2,0.,1.)\n",
    "\n",
    "\n",
    "colgap!(fig.layout, Relative(0.02))\n",
    "rowgap!(fig.layout, Relative(0.02))\n",
    "\n",
    "\n",
    "fig"
   ]
  },
  {
   "cell_type": "code",
   "execution_count": 58,
   "metadata": {},
   "outputs": [],
   "source": [
    "predict_mst = [vertex_top_map[id] for id in predict_id];\n",
    "predict_mst_complexity = [sum(abs.(v)) for v in predict_mst];"
   ]
  },
  {
   "cell_type": "markdown",
   "metadata": {},
   "source": [
    "Retrieve target mutants for contingency analysis"
   ]
  },
  {
   "cell_type": "code",
   "execution_count": 59,
   "metadata": {},
   "outputs": [],
   "source": [
    "mut_n = 1\n",
    "n_weight = 2\n",
    "\n",
    "all_target_mutants = []\n",
    "all_target_networks = []\n",
    "all_target_prob = []\n",
    "all_target_ent_deltas = []\n",
    "all_target_max_ent = []\n",
    "\n",
    "for n in 1:top_n+1\n",
    "\n",
    "    if n == top_n+1\n",
    "        sample = filter(tr->tr.gt_label_predictions[mut_n+1] == -1 ,trajectories_p)\n",
    "    else\n",
    "        sample = filter(tr->tr.gt_label_predictions[mut_n+1] == sorted_uep[n],trajectories_p)\n",
    "    end\n",
    "\n",
    "    sample_entropy_deltas = map(tr->tr.gt_label_entropies[2:end] .- tr.gt_label_entropies[1:end-1],sample);\n",
    "    sample_top_edits_deltas = map(tr->tr.weight_edits[2:end] .- tr.weight_edits[1:end-1],sample)\n",
    "\n",
    "    sample_start_networks = map(tr->tr.geno_traj[mut_n],sample)\n",
    "    sample_resultant_networks = map(tr->tr.geno_traj[mut_n+1],sample)\n",
    "\n",
    "    sample_mutations = map(tr->tr.mutant_info[mut_n],sample)\n",
    "\n",
    "    sample_probabilities = map(tr->tr.gt_label_probabilities[mut_n+1,:],sample)\n",
    "\n",
    "    sample_top_edits_delta_select = map(x->x[mut_n],sample_top_edits_deltas);\n",
    "\n",
    "    sample_entropy_delta_select = map(x->x[mut_n],sample_entropy_deltas);\n",
    "\n",
    "    max_ent_delta = minimum(sample_entropy_delta_select[findall(sample_top_edits_delta_select .== n_weight)])\n",
    "\n",
    "    target_mutant_id = findall(sample_top_edits_delta_select .== n_weight) ∩ findall(sample_entropy_delta_select .== max_ent_delta)\n",
    "\n",
    "    target_mutant = sample_mutations[target_mutant_id[1]]\n",
    "\n",
    "    target_prob = sample_probabilities[target_mutant_id[1]]\n",
    "\n",
    "    push!(all_target_mutants,target_mutant)\n",
    "    push!(all_target_prob,target_prob)\n",
    "    push!(all_target_max_ent,max_ent_delta)\n",
    "    push!(all_target_ent_deltas,sample_entropy_delta_select[findall(sample_top_edits_delta_select .== n_weight)])\n",
    "\n",
    "    start_network = sample_start_networks[target_mutant_id[1]]\n",
    "    resultant_network = sample_resultant_networks[target_mutant_id[1]]\n",
    "\n",
    "    push!(all_target_networks,(start_network,resultant_network))\n",
    "end"
   ]
  },
  {
   "cell_type": "markdown",
   "metadata": {},
   "source": [
    "Load contingency experiments "
   ]
  },
  {
   "cell_type": "code",
   "execution_count": 63,
   "metadata": {},
   "outputs": [
    {
     "name": "stdout",
     "output_type": "stream",
     "text": [
      "MST: 1 - 1.0\n"
     ]
    },
    {
     "name": "stdout",
     "output_type": "stream",
     "text": [
      "MST: 2 - 0.964\n"
     ]
    },
    {
     "name": "stdout",
     "output_type": "stream",
     "text": [
      "MST: 3 - 0.6882\n"
     ]
    },
    {
     "name": "stdout",
     "output_type": "stream",
     "text": [
      "MST: 4 - 0.9856\n"
     ]
    },
    {
     "name": "stdout",
     "output_type": "stream",
     "text": [
      "MST: 5 - 0.732\n"
     ]
    }
   ],
   "source": [
    "contingency_data = Dict()\n",
    "\n",
    "all_top_msn = []\n",
    "\n",
    "all_top_msn_counts = []\n",
    "\n",
    "vim_trajectories = []\n",
    "vim_vertex_top_map = []\n",
    "\n",
    "for n in 1:top_n+1\n",
    "\n",
    "    data_con = load(datadirx(\"exp_pro/DeNovoStripe/Contingencies/RE_Minimal_Inhibiting_DN_Contingent_\" * string(n) * \"_RawData.jld2\"));\n",
    "\n",
    "    conv_con = copy(data_con[\"converged\"]);\n",
    "\n",
    "    print(\"MST: \" * string(n) * \" - \" * string(sum(conv_con)/length(conv_con)))\n",
    "    print(\"\\n\")\n",
    "    \n",
    "    nconv_con = sum(conv_con)\n",
    "\n",
    "    fs_mss_con =  map(list_mss->select_minimal_topologies(list_mss),data_con[\"min_fs_networks\"])\n",
    "    ls_mss_con =  map(list_mss->select_minimal_topologies(list_mss),data_con[\"min_end_networks\"]);\n",
    "\n",
    "    trajectories_con = map(k->Trajectory(k,data_con[\"geno_traj\"][conv_con][k],data_con[\"fitness_traj\"][conv_con][k],data_con[\"wait_times\"][conv_con][k] .+ 1,data_con[\"mut_choices\"][conv_con][k],data_con[\"mut_type\"][conv_con][k],data_con[\"mut_sizes\"][conv_con][k],weight_names),1:nconv_con);\n",
    "\n",
    "    for (nt,tr) in enumerate(trajectories_con)\n",
    "        assign_minimal_subgraphs!(tr,fs_mss_con[nt],ls_mss_con[nt])\n",
    "    end\n",
    "\n",
    "    inc_metagraph_con, vertex_top_map_con,top_vertex_map_con,vertex_complexity_map_con,inclusion_matrix_con = create_inclusion_metagraph(trajectories_con);\n",
    "\n",
    "    minimal_motif_id_con = findall(indegree(inc_metagraph_con) .== 0);\n",
    "\n",
    "    minimal_motifs_con = reduce(hcat,[vertex_top_map_con[vertex_id] for vertex_id in minimal_motif_id_con]);\n",
    "\n",
    "    for tr in trajectories_con\n",
    "        tr.inc_metagraph_vertices = create_label_H0(tr,top_vertex_map,predict_id,predict_mst)\n",
    "        tr.inc_metagraph_parents = create_label_H0_parent(tr,top_vertex_map,predict_id,predict_mst,predict_mst_complexity)\n",
    "    end\n",
    "\n",
    "    push!(vim_trajectories,trajectories_con)\n",
    "    push!(vim_vertex_top_map,vertex_top_map_con)\n",
    "\n",
    "end\n",
    "\n",
    "contingency_data[\"Double\"] = [all_target_networks,all_target_prob,vim_trajectories,all_target_ent_deltas,all_target_max_ent,all_target_mutants];"
   ]
  },
  {
   "cell_type": "code",
   "execution_count": 64,
   "metadata": {},
   "outputs": [
    {
     "data": {
      "image/png": "[encoded data removed]"
     },
     "metadata": {},
     "output_type": "display_data"
    }
   ],
   "source": [
    "fig = CairoMakie.Figure(resolution = (400,100),fontsize = 12.)\n",
    "\n",
    "create_contingency_accuracy_summary!(fig,contingency_data[\"Double\"][3],contingency_data[\"Double\"][2],null_H0_dist,top_n,predict_label_to_vertex,predict_colors)\n",
    "\n",
    "fig"
   ]
  },
  {
   "cell_type": "code",
   "execution_count": null,
   "metadata": {},
   "outputs": [],
   "source": []
  }
 ],
 "metadata": {
  "kernelspec": {
   "display_name": "Julia 1.8.2",
   "language": "julia",
   "name": "julia-1.8"
  },
  "language_info": {
   "file_extension": ".jl",
   "mimetype": "application/julia",
   "name": "julia",
   "version": "1.8.2"
  },
  "orig_nbformat": 4
 },
 "nbformat": 4,
 "nbformat_minor": 2
}
